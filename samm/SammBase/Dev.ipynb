{
 "cells": [
  {
   "cell_type": "code",
   "execution_count": 1,
   "id": "026d2ca7-8a14-4cc5-81f0-ec319f63e442",
   "metadata": {},
   "outputs": [],
   "source": [
    "from SammBaseLib.LogicSamm import *\n",
    "from SammBaseLib.WidgetSammBase import *\n",
    "import SampleData\n"
   ]
  },
  {
   "cell_type": "code",
   "execution_count": 2,
   "id": "211fc502-4c29-4b4a-a4be-c173b775021b",
   "metadata": {},
   "outputs": [],
   "source": [
    "nodeToClone = SampleData.SampleDataLogic().downloadMRHead()\n",
    "slicer.util.selectModule(\"SammBase\")"
   ]
  },
  {
   "cell_type": "code",
   "execution_count": 3,
   "id": "c6c9240e-10dd-4f8b-8faa-aa23d9aebf61",
   "metadata": {},
   "outputs": [
    {
     "data": {
      "text/plain": [
       "<MRMLCore.vtkMRMLScalarVolumeNode(0xcd6fbf0) at 0x7f6a94879ee0>"
      ]
     },
     "execution_count": 3,
     "metadata": {},
     "output_type": "execute_result"
    }
   ],
   "source": [
    "logic = SammBaseLogic()\n",
    "logic._parameterNode.SetNodeReferenceID(\"sammInputVolume\", \"vtkMRMLScalarVolumeNode1\")\n",
    "# imageNormalized = logic.processSlicePreProcess()\n",
    "# print(imageNormalized.shape)"
   ]
  }
 ],
 "metadata": {
  "kernelspec": {
   "display_name": "Slicer 5.2",
   "language": "python",
   "name": "slicer-5.2"
  },
  "language_info": {
   "file_extension": ".py",
   "mimetype": "text/x-python",
   "name": "python",
   "version": "3.9.10"
  }
 },
 "nbformat": 4,
 "nbformat_minor": 5
}
