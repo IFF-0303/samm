{
 "cells": [
  {
   "cell_type": "code",
   "execution_count": 26,
   "id": "026d2ca7-8a14-4cc5-81f0-ec319f63e442",
   "metadata": {},
   "outputs": [],
   "source": [
    "from SammBaseLib.LogicSamm import *\n",
    "from SammBaseLib.WidgetSammBase import *\n",
    "import SampleData\n"
   ]
  },
  {
   "cell_type": "code",
   "execution_count": 2,
   "id": "211fc502-4c29-4b4a-a4be-c173b775021b",
   "metadata": {},
   "outputs": [],
   "source": [
    "nodeToClone = SampleData.SampleDataLogic().downloadMRHead()\n",
    "# nodeToClone = SampleData.SampleDataLogic().downloadCTChest()\n",
    "# nodeToClone = SampleData.SampleDataLogic().downloadCTACardio()\n",
    "\n",
    "slicer.util.selectModule(\"SammBase\")"
   ]
  },
  {
   "cell_type": "code",
   "execution_count": 27,
   "id": "c6c9240e-10dd-4f8b-8faa-aa23d9aebf61",
   "metadata": {},
   "outputs": [
    {
     "data": {
      "text/plain": [
       "<MRMLCore.vtkMRMLScalarVolumeNode(0xc7ede30) at 0x7ff587965820>"
      ]
     },
     "execution_count": 27,
     "metadata": {},
     "output_type": "execute_result"
    }
   ],
   "source": [
    "logic = SammBaseLogic()\n",
    "logic._parameterNode.SetNodeReferenceID(\"sammInputVolume\", \"vtkMRMLScalarVolumeNode1\")\n",
    "# imageNormalized = logic.processSlicePreProcess()\n",
    "# print(imageNormalized.shape)"
   ]
  },
  {
   "cell_type": "code",
   "execution_count": 4,
   "id": "556dfa20-80ae-44fe-8a6f-9d2cf9ed6368",
   "metadata": {},
   "outputs": [
    {
     "name": "stdout",
     "output_type": "stream",
     "text": [
      "True\n"
     ]
    }
   ],
   "source": [
    "print(logic._parameterNode.GetParameter(\"sammViewOptions\")==\"RED\")"
   ]
  },
  {
   "cell_type": "code",
   "execution_count": 5,
   "id": "e8764dcb-056f-4cc5-a206-934e0b51a7b7",
   "metadata": {},
   "outputs": [
    {
     "name": "stdout",
     "output_type": "stream",
     "text": [
      "(129.72245434031765, -121.57139587402344, -10.214302062988281, 1.0)\n",
      "(2.4310518326593353, 7.548171374262596, 4.936334692913553, 1.0)\n",
      "[2, 1, 0]\n",
      "[4.93633469 7.54817137 2.43105183]\n"
     ]
    }
   ],
   "source": [
    "s = slicer.app.layoutManager().sliceWidget('Red').mrmlSliceNode()\n",
    "mat = s.GetXYToRAS()\n",
    "temp = mat.MultiplyPoint([0,0,0,1])\n",
    "print(temp)\n",
    "ras2ijk = vtk.vtkMatrix4x4()\n",
    "logic._parameterNode.GetNodeReference(\"sammInputVolume\").GetRASToIJKMatrix(ras2ijk)\n",
    "temp = ras2ijk.MultiplyPoint(temp)\n",
    "print(temp)\n",
    "print(logic._parameterNode.RGYNpArrOrder)\n",
    "temp = np.array([temp[0],temp[1],temp[2]])[logic._parameterNode.RGYNpArrOrder]\n",
    "print(temp)"
   ]
  },
  {
   "cell_type": "code",
   "execution_count": 6,
   "id": "56a420d0-343b-43a1-80f0-295a340c3f4f",
   "metadata": {},
   "outputs": [
    {
     "name": "stdout",
     "output_type": "stream",
     "text": [
      "(10, 10, 10)\n",
      "(10, 10, 10)\n"
     ]
    }
   ],
   "source": [
    "volumeNodeDataPointer = slicer.util.arrayFromVolume(\n",
    "    logic._parameterNode.GetNodeReference(\"sammInputVolume\"))\n",
    "volumeDisplayNode = logic._parameterNode.GetNodeReference(\"sammInputVolume\").GetDisplayNode()\n",
    "window = volumeDisplayNode.GetWindow()\n",
    "level = volumeDisplayNode.GetLevel()\n",
    "\n",
    "imageMin = level - window / 2\n",
    "imageMax = level + window / 2\n",
    "\n",
    "imageNormalized = (((copy.deepcopy(volumeNodeDataPointer) - imageMin).astype(\"float32\") / (imageMax - imageMin)) * 256).astype(numpy.uint8)\n",
    "print(imageNormalized.shape)\n",
    "imageNormalized = imageNormalized.transpose(2-np.array(logic._parameterNode.RGYNpArrOrder))\n",
    "print(imageNormalized.shape)"
   ]
  },
  {
   "cell_type": "code",
   "execution_count": 10,
   "id": "6a94d1c9-f451-4d87-946e-747a7f02053a",
   "metadata": {},
   "outputs": [
    {
     "name": "stdout",
     "output_type": "stream",
     "text": [
      "127.0\n"
     ]
    }
   ],
   "source": [
    "curslc = logic.utilGetCurrentSliceIndex()\n",
    "print(curslc)"
   ]
  },
  {
   "cell_type": "code",
   "execution_count": 12,
   "id": "8d8f41e7-d3aa-4dfd-b192-db8c337f42f7",
   "metadata": {},
   "outputs": [
    {
     "name": "stdout",
     "output_type": "stream",
     "text": [
      "[[89, 75], [123, 102], [152, 66]]\n",
      "[[132, 35], [192, 55], [180, 95]]\n",
      "[SAMM INFO] Sent Size Command.\n"
     ]
    },
    {
     "name": "stderr",
     "output_type": "stream",
     "text": [
      "100%|##########| 256/256 [00:00<00:00, 868.94it/s]\n"
     ]
    },
    {
     "name": "stdout",
     "output_type": "stream",
     "text": [
      "[SAMM INFO] Sent Image.\n",
      "[SAMM INFO] Sent Embedding Computing Command.\n"
     ]
    }
   ],
   "source": [
    "logic.processInitPromptSync()\n",
    "prompt_add_point, prompt_remove_point = [], []\n",
    "curslc = logic.utilGetCurrentSliceIndex()\n",
    "numControlPoints = logic._prompt_add.GetNumberOfControlPoints()\n",
    "for i in range(numControlPoints):\n",
    "    ras = vtk.vtkVector3d(0,0,0)\n",
    "    logic._prompt_add.GetNthControlPointPosition(i,ras)\n",
    "    temp = logic._volumeRasToIjk.MultiplyPoint([ras[0],ras[1],ras[2],1])\n",
    "    temp = np.array([temp[0], temp[1], temp[2]])[logic._parameterNode.RGYNpArrOrder]\n",
    "    prompt_add_point.append(logic.utilGetPositionOnSlicer(temp))\n",
    "\n",
    "numControlPoints = logic._prompt_remove.GetNumberOfControlPoints()\n",
    "for i in range(numControlPoints):\n",
    "    ras = vtk.vtkVector3d(0,0,0)\n",
    "    logic._prompt_remove.GetNthControlPointPosition(i,ras)\n",
    "    temp = logic._volumeRasToIjk.MultiplyPoint([ras[0],ras[1],ras[2],1])\n",
    "    temp = np.array([temp[0], temp[1], temp[2]])[logic._parameterNode.RGYNpArrOrder]\n",
    "    prompt_remove_point.append(logic.utilGetPositionOnSlicer(temp))\n",
    "\n",
    "print(prompt_add_point)\n",
    "print(prompt_remove_point)"
   ]
  },
  {
   "cell_type": "code",
   "execution_count": 13,
   "id": "9208fd04-8733-4b6d-ba33-3bc7629bd777",
   "metadata": {},
   "outputs": [],
   "source": [
    "logic.processInitPromptSync()\n",
    "logic.processStartPromptSync()"
   ]
  },
  {
   "cell_type": "code",
   "execution_count": 7,
   "id": "9b10bf35-1e36-41ac-b639-91066e1c1ba4",
   "metadata": {},
   "outputs": [
    {
     "data": {
      "text/plain": [
       "'R'"
      ]
     },
     "execution_count": 7,
     "metadata": {},
     "output_type": "execute_result"
    },
    {
     "name": "stdout",
     "output_type": "stream",
     "text": [
      "[SAMM INFO] Sent Size Command.\n"
     ]
    },
    {
     "name": "stderr",
     "output_type": "stream",
     "text": [
      "100%|##########| 10/10 [00:00<00:00, 914.07it/s]\n"
     ]
    },
    {
     "name": "stdout",
     "output_type": "stream",
     "text": [
      "[SAMM INFO] Sent Image.\n",
      "[SAMM INFO] Sent Embedding Computing Command.\n"
     ]
    },
    {
     "name": "stderr",
     "output_type": "stream",
     "text": [
      "/home/yl/Slicer/bin/Python/slicer/util.py:2521: UserWarning: does not have observer\n",
      "  warn('does not have observer')\n"
     ]
    },
    {
     "name": "stdout",
     "output_type": "stream",
     "text": [
      "[SAMM INFO] Sent Size Command.\n"
     ]
    },
    {
     "name": "stderr",
     "output_type": "stream",
     "text": [
      "100%|##########| 10/10 [00:00<00:00, 895.15it/s]\n"
     ]
    },
    {
     "name": "stdout",
     "output_type": "stream",
     "text": [
      "[SAMM INFO] Sent Image.\n",
      "[SAMM INFO] Sent Embedding Computing Command.\n"
     ]
    },
    {
     "name": "stderr",
     "output_type": "stream",
     "text": [
      "Traceback (most recent call last):\n",
      "  File \"/home/yl/software/samm/samm/SammBase/SammBaseLib/WidgetSammBase.py\", line 162, in onPushStartMaskSync\n",
      "    self.logic.processStartPromptSync()\n",
      "  File \"/home/yl/software/samm/samm/SammBase/SammBaseLib/LogicSamm.py\", line 293, in processStartPromptSync\n",
      "    self._connections.pushRequest(SammMsgType.INFERENCE, {\n",
      "  File \"/home/yl/software/samm/samm/SammBase/SammBaseLib/UtilConnections.py\", line 40, in pushRequest\n",
      "    feedback = sock.recv()\n",
      "  File \"zmq/backend/cython/socket.pyx\", line 805, in zmq.backend.cython.socket.Socket.recv\n",
      "  File \"zmq/backend/cython/socket.pyx\", line 841, in zmq.backend.cython.socket.Socket.recv\n",
      "  File \"zmq/backend/cython/socket.pyx\", line 199, in zmq.backend.cython.socket._recv_copy\n",
      "  File \"zmq/backend/cython/socket.pyx\", line 194, in zmq.backend.cython.socket._recv_copy\n",
      "  File \"zmq/backend/cython/checkrc.pxd\", line 22, in zmq.backend.cython.checkrc._check_rc\n",
      "zmq.error.Again: Resource temporarily unavailable\n",
      "\n",
      "If you suspect this is an IPython 8.14.0 bug, please report it at:\n",
      "    https://github.com/ipython/ipython/issues\n",
      "or send an email to the mailing list at ipython-dev@python.org\n",
      "\n",
      "You can print a more detailed traceback right now with \"%tb\", or use \"%debug\"\n",
      "to interactively debug it.\n",
      "\n",
      "Extra-detailed tracebacks for bug-reporting purposes can be enabled via:\n",
      "    %config Application.verbose_crash=True\n",
      "\n"
     ]
    }
   ],
   "source": [
    "logic._parameterNode.GetParameter(\"sammViewOptions\")[0]"
   ]
  },
  {
   "cell_type": "code",
   "execution_count": 24,
   "id": "36be2ce9-b567-4c0e-93c5-f375de2abd86",
   "metadata": {},
   "outputs": [
    {
     "name": "stdout",
     "output_type": "stream",
     "text": [
      "[0.2 0.1 0.3]\n",
      "[0.1 0.2 0.3]\n"
     ]
    }
   ],
   "source": [
    "import numpy as np\n",
    "\n",
    "x = np.array([0.1, 0.2, 0.3])\n",
    "i = np.array([1,0,2])\n",
    "y = x[i]\n",
    "print(y)\n",
    "ii = i.argsort()\n",
    "z = y[ii]\n",
    "print(z)"
   ]
  },
  {
   "cell_type": "code",
   "execution_count": 40,
   "id": "237453be-e899-4000-ae46-4446106d99e7",
   "metadata": {},
   "outputs": [
    {
     "name": "stdout",
     "output_type": "stream",
     "text": [
      "[[[0.]\n",
      "  [0.]\n",
      "  [0.]]\n",
      "\n",
      " [[0.]\n",
      "  [0.]\n",
      "  [0.]]]\n"
     ]
    }
   ],
   "source": [
    "logic._parameterNode.RGYNpArrOrder\n",
    "x = np.array([0.1, 0.2, 0.3])\n",
    "y = x[2-np.array(logic._parameterNode.RGYNpArrOrder)]\n",
    "ii = np.array(2-np.array(logic._parameterNode.RGYNpArrOrder)).argsort()\n",
    "z = y[ii]\n",
    "z = np.zeros((1,2,3))\n",
    "print(z.reshape((2,3,1)))"
   ]
  },
  {
   "cell_type": "code",
   "execution_count": null,
   "id": "92be4fc6-f838-47d0-ae4e-47c2598eb353",
   "metadata": {},
   "outputs": [],
   "source": []
  },
  {
   "cell_type": "code",
   "execution_count": null,
   "id": "4e83cab3-759b-4bf4-a2ff-2f0134331451",
   "metadata": {},
   "outputs": [],
   "source": []
  }
 ],
 "metadata": {
  "kernelspec": {
   "display_name": "Slicer 5.2",
   "language": "python",
   "name": "slicer-5.2"
  },
  "language_info": {
   "file_extension": ".py",
   "mimetype": "text/x-python",
   "name": "python",
   "version": "3.9.10"
  }
 },
 "nbformat": 4,
 "nbformat_minor": 5
}
